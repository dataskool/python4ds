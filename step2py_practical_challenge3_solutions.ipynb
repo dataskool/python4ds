{
  "nbformat": 4,
  "nbformat_minor": 0,
  "metadata": {
    "colab": {
      "provenance": []
    },
    "kernelspec": {
      "name": "python3",
      "display_name": "Python 3"
    },
    "language_info": {
      "name": "python"
    }
  },
  "cells": [
    {
      "cell_type": "markdown",
      "source": [
        "**Problem Statement:**\n",
        "\n",
        "You are tasked with designing a Student Management System for a school. The system should allow administrators to manage students' information, teachers to record and access grades, and students to view their own grades. Your task is to create a Python class that encapsulates this system's functionality.\n"
      ],
      "metadata": {
        "id": "HOgGckV21Umc"
      }
    },
    {
      "cell_type": "markdown",
      "source": [
        "**Class Requirements:**\n",
        "\n",
        "Create a Python class named **StudentManagementSystem** that fulfills the following requirements:\n",
        "\n",
        "1. The class should have the following attributes:\n",
        "\n",
        "`students:` A dictionary that stores student information. Each key is a unique student ID, and the value is a dictionary containing the student's name, age, and a list of their grades.\n",
        "\n",
        "2. The class should have the following methods:\n",
        "\n",
        "- `add_student(self, student_id, name, age)`: Add a new student to the system with the given `student_id`, `name`, and `age`. Initialize an empty list for the student's grades.\n",
        "\n",
        "- `add_grade(self, student_id, grade)`: Add a grade to the specified student's record. If the student does not exist, raise an error.\n",
        "\n",
        "- `get_student_info(self, student_id)`: Retrieve and return the student's information (`name`, `age`, and `grades`) as a dictionary. If the student does not exist, raise an error.\n",
        "\n",
        "- `get_average_grade(self, student_id)`: Calculate and return the average grade for the specified student. If the student does not exist, raise an error.\n",
        "\n",
        "- `get_student_grades(self, student_id)`: Retrieve and return the list of grades for the specified student. If the student does not exist, raise an error.\n",
        "\n",
        "- `get_all_students(self)`: Retrieve and return a list of all student IDs."
      ],
      "metadata": {
        "id": "TinpE4Oz1dqY"
      }
    },
    {
      "cell_type": "markdown",
      "source": [
        "**Example Usage:**"
      ],
      "metadata": {
        "id": "_xRoT-1o2DN-"
      }
    },
    {
      "cell_type": "code",
      "execution_count": 5,
      "metadata": {
        "colab": {
          "base_uri": "https://localhost:8080/"
        },
        "id": "xzqo4Qg-1PJc",
        "outputId": "71943db9-6d2c-453d-9bd8-504760f71123"
      },
      "outputs": [
        {
          "output_type": "stream",
          "name": "stdout",
          "text": [
            "{'name': 'Alice', 'age': 18, 'grades': [95]}\n",
            "95.0\n",
            "[95]\n",
            "['12345', '67890']\n"
          ]
        }
      ],
      "source": [
        "# Create an instance of the StudentManagementSystem\n",
        "sms = StudentManagementSystem()\n",
        "\n",
        "# Add students to the system\n",
        "sms.add_student(\"12345\", \"Alice\", 18)\n",
        "sms.add_student(\"67890\", \"Bob\", 17)\n",
        "\n",
        "# Add grades for students\n",
        "sms.add_grade(\"12345\", 95)\n",
        "sms.add_grade(\"67890\", 85)\n",
        "\n",
        "# Retrieve and print student information\n",
        "print(sms.get_student_info(\"12345\"))\n",
        "# Output: {'name': 'Alice', 'age': 18, 'grades': [95]}\n",
        "\n",
        "# Calculate and print the average grade for a student\n",
        "print(sms.get_average_grade(\"12345\"))\n",
        "# Output: 95.0\n",
        "\n",
        "# Retrieve and print a student's grades\n",
        "print(sms.get_student_grades(\"12345\"))\n",
        "# Output: [95]\n",
        "\n",
        "# Retrieve and print a list of all student IDs\n",
        "print(sms.get_all_students())\n",
        "# Output: ['12345', '67890']"
      ]
    },
    {
      "cell_type": "markdown",
      "source": [
        "**Solution:**\n",
        "\n",
        "Here's a sample solution for the StudentManagementSystem class:"
      ],
      "metadata": {
        "id": "1w9y7lrL2OGQ"
      }
    },
    {
      "cell_type": "code",
      "source": [
        "class StudentManagementSystem:\n",
        "    \"\"\"\n",
        "    A class for managing student information and grades.\n",
        "    \"\"\"\n",
        "\n",
        "    def __init__(self):\n",
        "        \"\"\"\n",
        "        Initialize an empty student dictionary.\n",
        "        \"\"\"\n",
        "        self.students = {}\n",
        "\n",
        "    def add_student(self, student_id, name, age):\n",
        "        \"\"\"\n",
        "        Add a new student to the system.\n",
        "\n",
        "        Args:\n",
        "            student_id (str): The unique student identifier.\n",
        "            name (str): The name of the student.\n",
        "            age (int): The age of the student.\n",
        "\n",
        "        Returns:\n",
        "            None\n",
        "        \"\"\"\n",
        "        if student_id not in self.students:\n",
        "            self.students[student_id] = {\n",
        "                \"name\": name,\n",
        "                \"age\": age,\n",
        "                \"grades\": []\n",
        "            }\n",
        "\n",
        "    def add_grade(self, student_id, grade):\n",
        "        \"\"\"\n",
        "        Add a grade to the specified student's record.\n",
        "\n",
        "        Args:\n",
        "            student_id (str): The unique student identifier.\n",
        "            grade (float): The grade to be added.\n",
        "\n",
        "        Returns:\n",
        "            None\n",
        "\n",
        "        Raises:\n",
        "            ValueError: If the student does not exist.\n",
        "        \"\"\"\n",
        "        if student_id in self.students:\n",
        "            self.students[student_id][\"grades\"].append(grade)\n",
        "        else:\n",
        "            raise ValueError(\"Student not found\")\n",
        "\n",
        "    def get_student_info(self, student_id):\n",
        "        \"\"\"\n",
        "        Retrieve and return the student's information.\n",
        "\n",
        "        Args:\n",
        "            student_id (str): The unique student identifier.\n",
        "\n",
        "        Returns:\n",
        "            dict: A dictionary containing the student's name, age, and grades.\n",
        "\n",
        "        Raises:\n",
        "            ValueError: If the student does not exist.\n",
        "        \"\"\"\n",
        "        if student_id in self.students:\n",
        "            return {\n",
        "                \"name\": self.students[student_id][\"name\"],\n",
        "                \"age\": self.students[student_id][\"age\"],\n",
        "                \"grades\": self.students[student_id][\"grades\"]\n",
        "            }\n",
        "        else:\n",
        "            raise ValueError(\"Student not found\")\n",
        "\n",
        "    def get_average_grade(self, student_id):\n",
        "        \"\"\"\n",
        "        Calculate and return the average grade for the specified student.\n",
        "\n",
        "        Args:\n",
        "            student_id (str): The unique student identifier.\n",
        "\n",
        "        Returns:\n",
        "            float: The average grade.\n",
        "\n",
        "        Raises:\n",
        "            ValueError: If the student does not exist.\n",
        "        \"\"\"\n",
        "        if student_id in self.students:\n",
        "            grades = self.students[student_id][\"grades\"]\n",
        "            if grades:\n",
        "                return sum(grades) / len(grades)\n",
        "            else:\n",
        "                return 0.0\n",
        "        else:\n",
        "            raise ValueError(\"Student not found\")\n",
        "\n",
        "    def get_student_grades(self, student_id):\n",
        "        \"\"\"\n",
        "        Retrieve and return the list of grades for the specified student.\n",
        "\n",
        "        Args:\n",
        "            student_id (str): The unique student identifier.\n",
        "\n",
        "        Returns:\n",
        "            list: A list of grades.\n",
        "\n",
        "        Raises:\n",
        "            ValueError: If the student does not exist.\n",
        "        \"\"\"\n",
        "        if student_id in self.students:\n",
        "            return self.students[student_id][\"grades\"]\n",
        "        else:\n",
        "            raise ValueError(\"Student not found\")\n",
        "\n",
        "    def get_all_students(self):\n",
        "        \"\"\"\n",
        "        Retrieve and return a list of all student IDs.\n",
        "\n",
        "        Returns:\n",
        "            list: A list of unique student identifiers.\n",
        "        \"\"\"\n",
        "        return list(self.students.keys())\n"
      ],
      "metadata": {
        "id": "psP4H0Og2HDE"
      },
      "execution_count": 3,
      "outputs": []
    },
    {
      "cell_type": "code",
      "source": [],
      "metadata": {
        "id": "o8zCDFA-2Qj3"
      },
      "execution_count": null,
      "outputs": []
    }
  ]
}