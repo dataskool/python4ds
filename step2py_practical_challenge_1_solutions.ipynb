{
  "nbformat": 4,
  "nbformat_minor": 0,
  "metadata": {
    "colab": {
      "provenance": [],
      "toc_visible": true
    },
    "kernelspec": {
      "name": "python3",
      "display_name": "Python 3"
    },
    "language_info": {
      "name": "python"
    }
  },
  "cells": [
    {
      "cell_type": "code",
      "execution_count": null,
      "metadata": {
        "id": "hQn9qjg4bxAy"
      },
      "outputs": [],
      "source": []
    },
    {
      "cell_type": "markdown",
      "source": [
        "# Step into Python: Solutions to Practical Challenge \\#1\n",
        "\n",
        "This homework is based on conditional exeuction using `if-elif-else` clauses. If you have questions, please use the support channels outlined in the course RESOURCES section.\n",
        "\n",
        "Do not use ChatGPT. You won't learn anything if you use it. But you can use it to get additional explanations *after* you've attempted to solve them."
      ],
      "metadata": {
        "id": "EdMu6KLVb7-1"
      }
    },
    {
      "cell_type": "markdown",
      "source": [
        "## Problem 1\n",
        "\n",
        "Write a program that prompts the user to enter a number and determines whether it's positive, negative, or zero using if-else conditions.\n"
      ],
      "metadata": {
        "id": "NM8itSi0b28F"
      }
    },
    {
      "cell_type": "code",
      "source": [
        "# Prompt the user to enter a number\n",
        "num = float(input(\"Enter a number: \"))\n",
        "\n",
        "# Check if the number is positive, negative, or zero\n",
        "if num > 0:\n",
        "    print(\"The number is positive.\")\n",
        "elif num < 0:\n",
        "    print(\"The number is negative.\")\n",
        "else:\n",
        "    print(\"The number is zero.\")\n"
      ],
      "metadata": {
        "colab": {
          "base_uri": "https://localhost:8080/"
        },
        "id": "ELNIiLpJb4p2",
        "outputId": "7aec35ea-41d4-45ad-8efd-0feb9c1ed68c"
      },
      "execution_count": 1,
      "outputs": [
        {
          "output_type": "stream",
          "name": "stdout",
          "text": [
            "Enter a number: 20\n",
            "The number is positive.\n"
          ]
        }
      ]
    },
    {
      "cell_type": "markdown",
      "source": [
        "## Problem 2\n",
        "Create a program that asks for a person's age and then categorizes them as a child, teenager, adult, or senior based on the age range as follows\n",
        "\n",
        "- child: age < 13\n",
        "- teenager: 13 to 19 inclusive\n",
        "- adult: 18 or above but under 65\n",
        "- senior: 65 or older"
      ],
      "metadata": {
        "id": "39dhJ_IicHpK"
      }
    },
    {
      "cell_type": "code",
      "source": [
        "# Prompt the user to enter their age\n",
        "age = int(input(\"Enter your age: \"))\n",
        "\n",
        "# Categorize the age\n",
        "if age < 0:\n",
        "    print(\"Invalid age. Please enter a positive number.\")\n",
        "elif age <= 12:\n",
        "    print(\"You are a child.\")\n",
        "elif age <= 19:\n",
        "    print(\"You are a teenager.\")\n",
        "elif age <= 64:\n",
        "    print(\"You are an adult.\")\n",
        "else:\n",
        "    print(\"You are a senior.\")\n"
      ],
      "metadata": {
        "colab": {
          "base_uri": "https://localhost:8080/"
        },
        "id": "2g4HtWCxcNTs",
        "outputId": "a420a979-ac33-43de-eaee-c89038ddf6f9"
      },
      "execution_count": 4,
      "outputs": [
        {
          "output_type": "stream",
          "name": "stdout",
          "text": [
            "Enter your age: 65\n",
            "You are a senior.\n"
          ]
        }
      ]
    },
    {
      "cell_type": "markdown",
      "source": [
        "## Problem 3\n",
        "\n",
        "Design a program that takes a number from 1 to 12 as input and prints the corresponding month name (e.g., 1 for January, 2 for February) using if-else."
      ],
      "metadata": {
        "id": "wt4-gJwJdPzC"
      }
    },
    {
      "cell_type": "code",
      "source": [
        "# Prompt the user to enter a number from 1 to 12\n",
        "month_num = int(input(\"Enter a number from 1 to 12: \"))\n",
        "\n",
        "# Check the entered number and print the corresponding month name\n",
        "if month_num == 1:\n",
        "    print(\"January\")\n",
        "elif month_num == 2:\n",
        "    print(\"February\")\n",
        "elif month_num == 3:\n",
        "    print(\"March\")\n",
        "elif month_num == 4:\n",
        "    print(\"April\")\n",
        "elif month_num == 5:\n",
        "    print(\"May\")\n",
        "elif month_num == 6:\n",
        "    print(\"June\")\n",
        "elif month_num == 7:\n",
        "    print(\"July\")\n",
        "elif month_num == 8:\n",
        "    print(\"August\")\n",
        "elif month_num == 9:\n",
        "    print(\"September\")\n",
        "elif month_num == 10:\n",
        "    print(\"October\")\n",
        "elif month_num == 11:\n",
        "    print(\"November\")\n",
        "elif month_num == 12:\n",
        "    print(\"December\")\n",
        "else:\n",
        "    print(\"Invalid input. Please enter a number from 1 to 12.\")\n"
      ],
      "metadata": {
        "colab": {
          "base_uri": "https://localhost:8080/"
        },
        "id": "etgtaX9rc8pD",
        "outputId": "b59f107b-73cd-44a6-e259-356920bbd7fe"
      },
      "execution_count": 6,
      "outputs": [
        {
          "output_type": "stream",
          "name": "stdout",
          "text": [
            "Enter a number from 1 to 12: 22\n",
            "Invalid input. Please enter a number from 1 to 12.\n"
          ]
        }
      ]
    },
    {
      "cell_type": "code",
      "source": [],
      "metadata": {
        "id": "J7Q7WVUzdTEG"
      },
      "execution_count": null,
      "outputs": []
    },
    {
      "cell_type": "markdown",
      "source": [
        "## Problem 4\n",
        "\n",
        "Write a Python program that takes a single character (a letter) as input and determines whether it is a vowel or a consonant using if-else."
      ],
      "metadata": {
        "id": "aT_uL4wpdsXJ"
      }
    },
    {
      "cell_type": "code",
      "source": [
        "# Prompt the user to enter a single character\n",
        "char = input(\"Enter a single character: \")\n",
        "\n",
        "# Ensure that the input is a single character\n",
        "if len(char) != 1:\n",
        "    print(\"Please enter a single character.\")\n",
        "else:\n",
        "    # Check if the character is a vowel or a consonant\n",
        "    if char.lower() in 'aeiou':\n",
        "        print(f\"{char} is a vowel.\")\n",
        "    else:\n",
        "        print(f\"{char} is a consonant.\")\n"
      ],
      "metadata": {
        "colab": {
          "base_uri": "https://localhost:8080/"
        },
        "id": "nrEV1QM0dozy",
        "outputId": "f1ae54de-d09a-454a-ded2-577a030d31c6"
      },
      "execution_count": 7,
      "outputs": [
        {
          "output_type": "stream",
          "name": "stdout",
          "text": [
            "Enter a single character: d\n",
            "d is a consonant.\n"
          ]
        }
      ]
    },
    {
      "cell_type": "code",
      "source": [],
      "metadata": {
        "id": "z7UHuOzDdpUA"
      },
      "execution_count": null,
      "outputs": []
    },
    {
      "cell_type": "markdown",
      "source": [
        "## Problem 5\n",
        "\n",
        "Write a Python program that checks whether a given year is a leap year or not. Use an if-else statement to determine this.\n",
        "\n",
        "The logic for checking if a year is a leap year is as follows:\n",
        "\n",
        "1. If the year is divisible by 4 (year % 4 == 0) and not divisible by 100 (year % 100 != 0), it's a leap year.\n",
        "\n",
        "1. If the year is divisible by 400, it's also a leap year.\n",
        "\n",
        "Using this logic, you can determine whether a given year is a leap year or not."
      ],
      "metadata": {
        "id": "68kVeJ5zeNSK"
      }
    },
    {
      "cell_type": "code",
      "source": [
        "# Prompt the user to enter a year\n",
        "year = int(input(\"Enter a year: \"))\n",
        "\n",
        "# Check if it's a leap year\n",
        "if (year % 4 == 0 and year % 100 != 0) or (year % 400 == 0):\n",
        "    print(f\"{year} is a leap year.\")\n",
        "else:\n",
        "    print(f\"{year} is not a leap year.\")\n"
      ],
      "metadata": {
        "colab": {
          "base_uri": "https://localhost:8080/"
        },
        "id": "NWa8JVWyeOQ-",
        "outputId": "67f6e9c7-cc81-4a9f-e245-8b6108362dc3"
      },
      "execution_count": 8,
      "outputs": [
        {
          "output_type": "stream",
          "name": "stdout",
          "text": [
            "Enter a year: 2024\n",
            "2024 is a leap year.\n"
          ]
        }
      ]
    },
    {
      "cell_type": "code",
      "source": [],
      "metadata": {
        "id": "k0IyTQh_eSsv"
      },
      "execution_count": null,
      "outputs": []
    }
  ]
}