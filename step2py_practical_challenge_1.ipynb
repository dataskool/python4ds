{
  "nbformat": 4,
  "nbformat_minor": 0,
  "metadata": {
    "colab": {
      "provenance": [],
      "toc_visible": true
    },
    "kernelspec": {
      "name": "python3",
      "display_name": "Python 3"
    },
    "language_info": {
      "name": "python"
    }
  },
  "cells": [
    {
      "cell_type": "markdown",
      "source": [
        "# Step into Python: Practical Challenge \\#1\n",
        "\n",
        "This homework is based on conditional exeuction using `if-elif-else` clauses. If you have questions, please use the support channels outlined in the course RESOURCES section.\n",
        "\n",
        "Do not use ChatGPT. You won't learn anything if you use it. But you can use it to get additional explanations *after* you've attempted to solve them."
      ],
      "metadata": {
        "id": "EdMu6KLVb7-1"
      }
    },
    {
      "cell_type": "markdown",
      "source": [
        "## Problem 1\n",
        "\n",
        "Write a program that prompts the user to enter a number and determines whether it's positive, negative, or zero using if-else conditions.\n"
      ],
      "metadata": {
        "id": "NM8itSi0b28F"
      }
    },
    {
      "cell_type": "code",
      "source": [],
      "metadata": {
        "id": "IqkGzBOYkM5d"
      },
      "execution_count": null,
      "outputs": []
    },
    {
      "cell_type": "markdown",
      "source": [
        "## Problem 2\n",
        "Create a program that asks for a person's age and then categorizes them as a child, teenager, adult, or senior based on the age range as follows\n",
        "\n",
        "- child: age < 13\n",
        "- teenager: 13 to 19 inclusive\n",
        "- adult: 18 or above but under 65\n",
        "- senior: 65 or older"
      ],
      "metadata": {
        "id": "39dhJ_IicHpK"
      }
    },
    {
      "cell_type": "code",
      "source": [],
      "metadata": {
        "id": "9WM9NqTIkNg9"
      },
      "execution_count": null,
      "outputs": []
    },
    {
      "cell_type": "markdown",
      "source": [
        "## Problem 3\n",
        "\n",
        "Design a program that takes a number from 1 to 12 as input and prints the corresponding month name (e.g., 1 for January, 2 for February) using if-else."
      ],
      "metadata": {
        "id": "wt4-gJwJdPzC"
      }
    },
    {
      "cell_type": "code",
      "source": [],
      "metadata": {
        "id": "J7Q7WVUzdTEG"
      },
      "execution_count": null,
      "outputs": []
    },
    {
      "cell_type": "markdown",
      "source": [
        "## Problem 4\n",
        "\n",
        "Write a Python program that takes a single character (a letter) as input and determines whether it is a vowel or a consonant using if-else."
      ],
      "metadata": {
        "id": "aT_uL4wpdsXJ"
      }
    },
    {
      "cell_type": "code",
      "source": [],
      "metadata": {
        "id": "z7UHuOzDdpUA"
      },
      "execution_count": null,
      "outputs": []
    },
    {
      "cell_type": "markdown",
      "source": [
        "## Problem 5\n",
        "\n",
        "Write a Python program that checks whether a given year is a leap year or not. Use an if-else statement to determine this.\n",
        "\n",
        "The logic for checking if a year is a leap year is as follows:\n",
        "\n",
        "1. If the year is divisible by 4 (year % 4 == 0) and not divisible by 100 (year % 100 != 0), it's a leap year.\n",
        "\n",
        "1. If the year is divisible by 400, it's also a leap year.\n",
        "\n",
        "Using this logic, you can determine whether a given year is a leap year or not."
      ],
      "metadata": {
        "id": "68kVeJ5zeNSK"
      }
    },
    {
      "cell_type": "code",
      "source": [],
      "metadata": {
        "id": "k0IyTQh_eSsv"
      },
      "execution_count": null,
      "outputs": []
    }
  ]
}