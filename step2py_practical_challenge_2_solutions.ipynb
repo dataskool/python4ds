{
  "nbformat": 4,
  "nbformat_minor": 0,
  "metadata": {
    "colab": {
      "provenance": [],
      "toc_visible": true
    },
    "kernelspec": {
      "name": "python3",
      "display_name": "Python 3"
    },
    "language_info": {
      "name": "python"
    }
  },
  "cells": [
    {
      "cell_type": "markdown",
      "source": [
        "# Step into Python: Practical Challenge \\#2\n",
        "\n",
        "This homework is based on `for loop` and the use of conditional clauses. If you have questions, please use the support channels outlined in the course RESOURCES section.\n",
        "\n",
        "Do not use ChatGPT. You won't learn anything if you use it. But you can use it to get additional explanations *after* you've attempted to solve them."
      ],
      "metadata": {
        "id": "EdMu6KLVb7-1"
      }
    },
    {
      "cell_type": "markdown",
      "source": [
        "## Problem 1 Multiplication Table\n",
        "Write a Python program that generates a multiplication table for a given integer $n.$ The program should print the table from 1 to 10 for the given number.\n",
        "\n",
        "For example, if you input 6, the program should print:\n",
        "\n",
        "```\n",
        "6 x 1 = 6\n",
        "6 x 2 = 12\n",
        "6 x 3 = 18\n",
        "6 x 4 = 24\n",
        "6 x 5 = 30\n",
        "6 x 6 = 36\n",
        "6 x 7 = 42\n",
        "6 x 8 = 48\n",
        "6 x 9 = 54\n",
        "6 x 10 = 60\n",
        "```"
      ],
      "metadata": {
        "id": "NM8itSi0b28F"
      }
    },
    {
      "cell_type": "code",
      "source": [
        "# Get user input for the number for the multiplication table\n",
        "n = int(input(\"Enter a number for the multiplication table: \"))\n",
        "\n",
        "# Use a for loop to generate and print the multiplication table from 1 to 10\n",
        "for i in range(1, 11):\n",
        "    product = n * i\n",
        "    print(f\"{n} x {i} = {product}\")\n"
      ],
      "metadata": {
        "id": "IqkGzBOYkM5d",
        "colab": {
          "base_uri": "https://localhost:8080/"
        },
        "outputId": "5f445e15-4598-4c0f-80bb-9d962bad105f"
      },
      "execution_count": 6,
      "outputs": [
        {
          "output_type": "stream",
          "name": "stdout",
          "text": [
            "Enter a number for the multiplication table: 6\n",
            "6 x 1 = 6\n",
            "6 x 2 = 12\n",
            "6 x 3 = 18\n",
            "6 x 4 = 24\n",
            "6 x 5 = 30\n",
            "6 x 6 = 36\n",
            "6 x 7 = 42\n",
            "6 x 8 = 48\n",
            "6 x 9 = 54\n",
            "6 x 10 = 60\n"
          ]
        }
      ]
    },
    {
      "cell_type": "markdown",
      "source": [
        "## Problem 2: Sum of Series\n",
        "\n",
        "Write a program to calculate the sum of the series: `1 + 2 + 3 + ... + n`, where n is a positive integer entered by the user.\n",
        "\n",
        "For example, if someone inputs 10, it should print the sum of the numbers 1 to 10 and display as follows.\n",
        "\n",
        "```\n",
        "Enter a positive integer (n): 10\n",
        "The sum of the series from 1 to 10 is 55\n",
        "```"
      ],
      "metadata": {
        "id": "39dhJ_IicHpK"
      }
    },
    {
      "cell_type": "code",
      "source": [
        "# Get user input for the positive integer n\n",
        "n = int(input(\"Enter a positive integer (n): \"))\n",
        "\n",
        "# Initialize the sum variable\n",
        "sum_of_series = 0\n",
        "\n",
        "# Use a for loop to calculate the sum of the series\n",
        "for i in range(1, n + 1):\n",
        "    sum_of_series += i\n",
        "\n",
        "# Print the sum of the series\n",
        "print(f\"The sum of the series from 1 to {n} is {sum_of_series}\")\n"
      ],
      "metadata": {
        "id": "9WM9NqTIkNg9",
        "colab": {
          "base_uri": "https://localhost:8080/"
        },
        "outputId": "40492ba9-4db0-437e-c43c-849fd59fe5f3"
      },
      "execution_count": 7,
      "outputs": [
        {
          "output_type": "stream",
          "name": "stdout",
          "text": [
            "Enter a positive integer (n): 2\n",
            "The sum of the series from 1 to 2 is 3\n"
          ]
        }
      ]
    },
    {
      "cell_type": "markdown",
      "source": [
        "## Problem 3 Vowel Count\n",
        "\n",
        "Write a Python program that takes a string as input and counts the number of vowels (a, e, i, o, u) in the string using a for loop and if condition.\n",
        "\n",
        "Assume that the user only inputs small letters such as `hello`, and not `Hello`\n",
        "\n",
        "The code should ask for an input. For examle, when prompted a user inputs \"hello\" without the quote. The program should output the following\n",
        "\n",
        "```\n",
        "Enter a string: hello\n",
        "Number of vowels in the string: 2\n",
        "```"
      ],
      "metadata": {
        "id": "wt4-gJwJdPzC"
      }
    },
    {
      "cell_type": "code",
      "source": [
        "# Get user input for a string\n",
        "input_string = input(\"Enter a string: \")\n",
        "\n",
        "# Initialize a counter for vowels\n",
        "vowel_count = 0\n",
        "\n",
        "# Use a for loop to iterate through the characters in the string\n",
        "for char in input_string:\n",
        "    if char.lower() in \"aeiou\":\n",
        "        vowel_count += 1\n",
        "\n",
        "# Print the count of vowels in the string\n",
        "print(\"Number of vowels in the string:\", vowel_count)\n"
      ],
      "metadata": {
        "id": "J7Q7WVUzdTEG",
        "colab": {
          "base_uri": "https://localhost:8080/"
        },
        "outputId": "f1620a23-6622-4dbd-942e-021235c7720f"
      },
      "execution_count": 8,
      "outputs": [
        {
          "output_type": "stream",
          "name": "stdout",
          "text": [
            "Enter a string: this is a \n",
            "Number of vowels in the string: 3\n"
          ]
        }
      ]
    },
    {
      "cell_type": "markdown",
      "source": [
        "## Problem 4\n",
        "\n",
        "Write a program that takes a string as input and reverses the string using a for loop. Here's an example code to reverse a string using a for loop.\n",
        "\n",
        "For example, if you input 'Testing', the program should retur gnitseT\n",
        "\n",
        "```\n",
        "Enter a string: Testing\n",
        "Reversed string: gnitseT\n",
        "```"
      ],
      "metadata": {
        "id": "aT_uL4wpdsXJ"
      }
    },
    {
      "cell_type": "code",
      "source": [
        "# Get user input for a string\n",
        "input_string = input(\"Enter a string: \")\n",
        "\n",
        "# Initialize an empty string to store the reversed string\n",
        "reversed_string = \"\"\n",
        "\n",
        "# Use a for loop to reverse the string\n",
        "for char in input_string:\n",
        "    reversed_string = char + reversed_string\n",
        "\n",
        "# Print the reversed string\n",
        "print(\"Reversed string:\", reversed_string)\n"
      ],
      "metadata": {
        "id": "z7UHuOzDdpUA",
        "colab": {
          "base_uri": "https://localhost:8080/"
        },
        "outputId": "3980b2f8-7c03-4b0d-aae9-b12ab2a46a88"
      },
      "execution_count": 9,
      "outputs": [
        {
          "output_type": "stream",
          "name": "stdout",
          "text": [
            "Enter a string: hello\n",
            "Reversed string: olleh\n"
          ]
        }
      ]
    },
    {
      "cell_type": "markdown",
      "source": [
        "## Problem 5\n",
        "\n",
        "Write a program to use a for loop to count the even numbers in a given range. Here's an example code to count the even numbers in a specified range.\n",
        "\n",
        "Ask the user to input the start value, and the end value. Then the program should give you the count of the number of even numbers in that range.\n",
        "\n",
        "A user has input 1 as the starting value, and 10 as the ending value, which gives the following output.\n",
        "\n",
        "```\n",
        "Enter the start of the range: 1\n",
        "Enter the end of the range: 10\n",
        "The number of even numbers between 1 and 10 is: 5\n",
        "```"
      ],
      "metadata": {
        "id": "68kVeJ5zeNSK"
      }
    },
    {
      "cell_type": "code",
      "source": [
        "# Get user input for the range\n",
        "start = int(input(\"Enter the start of the range: \"))\n",
        "end = int(input(\"Enter the end of the range: \"))\n",
        "\n",
        "# Initialize a counter for even numbers\n",
        "even_count = 0\n",
        "\n",
        "# Use a for loop to count even numbers in the range\n",
        "for number in range(start, end + 1):\n",
        "    if number % 2 == 0:\n",
        "        even_count += 1\n",
        "\n",
        "# Print the count of even numbers\n",
        "print(f\"The number of even numbers between {start} and {end} is: {even_count}\")\n"
      ],
      "metadata": {
        "id": "k0IyTQh_eSsv",
        "colab": {
          "base_uri": "https://localhost:8080/"
        },
        "outputId": "b095cfaa-3d43-4286-9488-78dae4341d9f"
      },
      "execution_count": 10,
      "outputs": [
        {
          "output_type": "stream",
          "name": "stdout",
          "text": [
            "Enter the start of the range: 2\n",
            "Enter the end of the range: 34\n",
            "The number of even numbers between 2 and 34 is: 17\n"
          ]
        }
      ]
    },
    {
      "cell_type": "code",
      "source": [],
      "metadata": {
        "id": "hfdxf9Zjn_tt"
      },
      "execution_count": 10,
      "outputs": []
    }
  ]
}