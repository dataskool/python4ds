{
  "nbformat": 4,
  "nbformat_minor": 0,
  "metadata": {
    "colab": {
      "provenance": [],
      "toc_visible": true
    },
    "kernelspec": {
      "name": "python3",
      "display_name": "Python 3"
    },
    "language_info": {
      "name": "python"
    }
  },
  "cells": [
    {
      "cell_type": "markdown",
      "source": [
        "# Step into Python: Practical Challenge \\#2\n",
        "\n",
        "This homework is based on `for loop` and the use of conditional clauses. If you have questions, please use the support channels outlined in the course RESOURCES section.\n",
        "\n",
        "Do not use ChatGPT. You won't learn anything if you use it. But you can use it to get additional explanations *after* you've attempted to solve them."
      ],
      "metadata": {
        "id": "EdMu6KLVb7-1"
      }
    },
    {
      "cell_type": "markdown",
      "source": [
        "## Problem 1 Multiplication Table\n",
        "Write a Python program that generates a multiplication table for a given integer $n.$ The program should print the table from 1 to 10 for the given number.\n",
        "\n",
        "For example, if you input 6, the program should print:\n",
        "\n",
        "```\n",
        "6 x 1 = 6\n",
        "6 x 2 = 12\n",
        "6 x 3 = 18\n",
        "6 x 4 = 24\n",
        "6 x 5 = 30\n",
        "6 x 6 = 36\n",
        "6 x 7 = 42\n",
        "6 x 8 = 48\n",
        "6 x 9 = 54\n",
        "6 x 10 = 60\n",
        "```"
      ],
      "metadata": {
        "id": "NM8itSi0b28F"
      }
    },
    {
      "cell_type": "markdown",
      "source": [
        "## Problem 2: Sum of Series\n",
        "\n",
        "Write a program to calculate the sum of the series: `1 + 2 + 3 + ... + n`, where n is a positive integer entered by the user.\n",
        "\n",
        "For example, if someone inputs 10, it should print the sum of the numbers 1 to 10 and display as follows.\n",
        "\n",
        "```\n",
        "Enter a positive integer (n): 10\n",
        "The sum of the series from 1 to 10 is 55\n",
        "```"
      ],
      "metadata": {
        "id": "39dhJ_IicHpK"
      }
    },
    {
      "cell_type": "markdown",
      "source": [
        "## Problem 3 Vowel Count\n",
        "\n",
        "Write a Python program that takes a string as input and counts the number of vowels (a, e, i, o, u) in the string using a for loop and if condition.\n",
        "\n",
        "Assume that the user only inputs small letters such as `hello`, and not `Hello`\n",
        "\n",
        "The code should ask for an input. For examle, when prompted a user inputs \"hello\" without the quote. The program should output the following\n",
        "\n",
        "```\n",
        "Enter a string: hello\n",
        "Number of vowels in the string: 2\n",
        "```"
      ],
      "metadata": {
        "id": "wt4-gJwJdPzC"
      }
    },
    {
      "cell_type": "markdown",
      "source": [
        "## Problem 4\n",
        "\n",
        "Write a program that takes a string as input and reverses the string using a for loop. Here's an example code to reverse a string using a for loop.\n",
        "\n",
        "For example, if you input 'Testing', the program should retur gnitseT\n",
        "\n",
        "```\n",
        "Enter a string: Testing\n",
        "Reversed string: gnitseT\n",
        "```"
      ],
      "metadata": {
        "id": "aT_uL4wpdsXJ"
      }
    },
    {
      "cell_type": "markdown",
      "source": [
        "## Problem 5\n",
        "\n",
        "Write a program to use a for loop to count the even numbers in a given range. Here's an example code to count the even numbers in a specified range.\n",
        "\n",
        "Ask the user to input the start value, and the end value. Then the program should give you the count of the number of even numbers in that range.\n",
        "\n",
        "A user has input 1 as the starting value, and 10 as the ending value, which gives the following output.\n",
        "\n",
        "```\n",
        "Enter the start of the range: 1\n",
        "Enter the end of the range: 10\n",
        "The number of even numbers between 1 and 10 is: 5\n",
        "```"
      ],
      "metadata": {
        "id": "68kVeJ5zeNSK"
      }
    }
  ]
}